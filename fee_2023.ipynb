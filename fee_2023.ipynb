{
  "nbformat": 4,
  "nbformat_minor": 0,
  "metadata": {
    "colab": {
      "provenance": [],
      "authorship_tag": "ABX9TyOiSGFbjdF6FIrJnLgKhSFV",
      "include_colab_link": true
    },
    "kernelspec": {
      "name": "python3",
      "display_name": "Python 3"
    },
    "language_info": {
      "name": "python"
    }
  },
  "cells": [
    {
      "cell_type": "markdown",
      "metadata": {
        "id": "view-in-github",
        "colab_type": "text"
      },
      "source": [
        "<a href=\"https://colab.research.google.com/github/omeryldzk/AppEngine/blob/main/fee_2023.ipynb\" target=\"_parent\"><img src=\"https://colab.research.google.com/assets/colab-badge.svg\" alt=\"Open In Colab\"/></a>"
      ]
    },
    {
      "cell_type": "code",
      "execution_count": 5,
      "metadata": {
        "colab": {
          "base_uri": "https://localhost:8080/"
        },
        "id": "_tSFhqsS29Yt",
        "outputId": "313f88fa-e8d8-46fa-ae93-fa24be65cd6c"
      },
      "outputs": [
        {
          "output_type": "stream",
          "name": "stdout",
          "text": [
            "                              Üniversite                   Bölüm/Fakülte  \\\n",
            "0  İstanbul Aydın Üniversitesi ücretleri                   Tıp fakültesi   \n",
            "1  İstanbul Aydın Üniversitesi ücretleri         Diş hekimliği fakültesi   \n",
            "2  İstanbul Aydın Üniversitesi ücretleri                 Hukuk fakültesi   \n",
            "3  İstanbul Aydın Üniversitesi ücretleri  Gastronomi ve mutfak sanatları   \n",
            "4  İstanbul Aydın Üniversitesi ücretleri                       Psikoloji   \n",
            "\n",
            "    Ücret  burs_orani  Akademik yıl  \n",
            "0  115000           0          2023  \n",
            "1  115000           0          2023  \n",
            "2   86000           0          2023  \n",
            "3   55000           0          2023  \n",
            "4   64000           0          2023  \n"
          ]
        }
      ],
      "source": [
        "import pandas as pd\n",
        "import re\n",
        "\n",
        "# Load the dataset (adjust 'your_file.csv' to the path where your CSV is stored in Colab)\n",
        "df = pd.read_csv('university_result.csv')\n",
        "df['Ücret'] = (\n",
        "    df['Ücret']\n",
        "    .replace('[^\\d]', '', regex=True)   # Remove any non-numeric characters\n",
        "    .astype(str)                       # Convert to numeric format\n",
        ")\n",
        "\n",
        "# Clean the 'Bölüm/Fakülte' column to remove any ': <value> TL' text\n",
        "df['Bölüm/Fakülte'] = df['Bölüm/Fakülte'].str.replace(r':.*', '', regex=True).str.strip()\n",
        "\n",
        "# Add the 'burs_orani' column with a default value of 0\n",
        "df['burs_orani'] = 0\n",
        "\n",
        "# Reorder columns as specified\n",
        "df = df[['Üniversite', 'Bölüm/Fakülte', 'Ücret', 'burs_orani', 'Akademik yıl']]\n",
        "\n",
        "# Display the formatted data\n",
        "print(df.head())\n",
        "\n",
        "\n",
        "# Optionally, save the cleaned data to a new CSV file\n",
        "df.to_csv('formatted_data_2023.csv', index=False)\n"
      ]
    }
  ]
}